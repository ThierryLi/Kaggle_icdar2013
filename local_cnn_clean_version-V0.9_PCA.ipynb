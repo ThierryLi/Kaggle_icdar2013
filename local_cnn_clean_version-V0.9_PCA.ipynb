{
 "cells": [
  {
   "cell_type": "markdown",
   "metadata": {},
   "source": [
    "https://www.kaggle.com/c/icdar2013-gender-prediction-from-handwriting<br> https://www.pyimagesearch.com/2017/12/11/image-classification-with-keras-and-deep-learning/<br> \n",
    "https://medium.com/@kylepob61392/airplane-image-classification-using-a-keras-cnn-22be506fdb53<br> \n",
    "http://overfitt.io/posts/large-image-datasets-keras/"
   ]
  },
  {
   "cell_type": "code",
   "execution_count": 2,
   "metadata": {},
   "outputs": [
    {
     "name": "stderr",
     "output_type": "stream",
     "text": [
      "C:\\Temp\\Python\\Anaconda3\\lib\\site-packages\\h5py\\__init__.py:34: FutureWarning: Conversion of the second argument of issubdtype from `float` to `np.floating` is deprecated. In future, it will be treated as `np.float64 == np.dtype(float).type`.\n",
      "  from ._conv import register_converters as _register_converters\n",
      "Using TensorFlow backend.\n"
     ]
    }
   ],
   "source": [
    "# importing the necessary package\n",
    "from sklearn.model_selection import train_test_split\n",
    "from keras.utils import np_utils\n",
    "from keras.models import Sequential\n",
    "from keras.layers import Activation, Dropout, Flatten, Dense, Conv2D, MaxPooling2D\n",
    "from keras.callbacks import EarlyStopping, TensorBoard\n",
    "from sklearn.metrics import accuracy_score, f1_score\n",
    "from keras.preprocessing.image import img_to_array, load_img\n",
    "\n",
    "import glob\n",
    "import os.path as path\n",
    "import pandas as pd\n",
    "import numpy as np\n"
   ]
  },
  {
   "cell_type": "code",
   "execution_count": 3,
   "metadata": {
    "collapsed": true
   },
   "outputs": [],
   "source": [
    "# reading the train answer.csv file\n",
    "train_answers = pd.read_csv('train_answers.csv')"
   ]
  },
  {
   "cell_type": "code",
   "execution_count": 4,
   "metadata": {
    "collapsed": true
   },
   "outputs": [],
   "source": [
    "# Generating the path of each images and sorting it\n",
    "image_path = 'data'\n",
    "file_paths = glob.glob(path.join(image_path,'*.jpg'))\n",
    "file_paths.sort()"
   ]
  },
  {
   "cell_type": "code",
   "execution_count": 5,
   "metadata": {
    "collapsed": true
   },
   "outputs": [],
   "source": [
    "# Creating a new dataframe with only the file_path and the writer ID\n",
    "COLUMN_NAMES=['file_path', 'writer']\n",
    "dataframe = pd.DataFrame(columns=COLUMN_NAMES)\n",
    "dataframe['file_path']= file_paths"
   ]
  },
  {
   "cell_type": "code",
   "execution_count": 6,
   "metadata": {
    "collapsed": true,
    "scrolled": true
   },
   "outputs": [],
   "source": [
    "# From the dataframe, we need to extract the writer ID from the file path\n",
    "# the format of the file path is 'data\\<writer_id>_<number>.jpg\n",
    "dataframe['writer'] = dataframe['file_path'].str.extract(r'(\\d+)_(\\d+).jpg', expand=True)\n",
    "# Set the writer column as a Category\n",
    "dataframe['writer'] = pd.Categorical(dataframe['writer']).codes\n"
   ]
  },
  {
   "cell_type": "code",
   "execution_count": 7,
   "metadata": {
    "collapsed": true
   },
   "outputs": [],
   "source": [
    "# Now we need to merge the dataframe to the train_answer dataframe in order to add the male\n",
    "# column for each writer\n",
    "merged_dataframe = pd.merge(dataframe, train_answers, how ='right', on = ['writer'])\n",
    "# as in the train_answer we only have identified 282 writers, every writer IDs > 282 will be\n",
    "# removed"
   ]
  },
  {
   "cell_type": "code",
   "execution_count": 8,
   "metadata": {
    "collapsed": true,
    "scrolled": true
   },
   "outputs": [],
   "source": [
    "# Now we can build the X_train and y_train dataframe to be used by the model\n",
    "X = merged_dataframe['file_path']\n",
    "y = merged_dataframe['male']"
   ]
  },
  {
   "cell_type": "code",
   "execution_count": 9,
   "metadata": {},
   "outputs": [
    {
     "data": {
      "text/html": [
       "<div>\n",
       "<style>\n",
       "    .dataframe thead tr:only-child th {\n",
       "        text-align: right;\n",
       "    }\n",
       "\n",
       "    .dataframe thead th {\n",
       "        text-align: left;\n",
       "    }\n",
       "\n",
       "    .dataframe tbody tr th {\n",
       "        vertical-align: top;\n",
       "    }\n",
       "</style>\n",
       "<table border=\"1\" class=\"dataframe\">\n",
       "  <thead>\n",
       "    <tr style=\"text-align: right;\">\n",
       "      <th></th>\n",
       "      <th>file_path</th>\n",
       "      <th>writer</th>\n",
       "      <th>male</th>\n",
       "    </tr>\n",
       "  </thead>\n",
       "  <tbody>\n",
       "    <tr>\n",
       "      <th>131</th>\n",
       "      <td>data\\0034_4.jpg</td>\n",
       "      <td>33</td>\n",
       "      <td>0</td>\n",
       "    </tr>\n",
       "  </tbody>\n",
       "</table>\n",
       "</div>"
      ],
      "text/plain": [
       "           file_path  writer  male\n",
       "131  data\\0034_4.jpg      33     0"
      ]
     },
     "execution_count": 9,
     "metadata": {},
     "output_type": "execute_result"
    }
   ],
   "source": [
    "# reading a specific line and checking if the write type is correct\n",
    "test_data = merged_dataframe.loc[merged_dataframe['file_path'] == 'data\\\\0034_4.jpg']\n",
    "test_data.head()"
   ]
  },
  {
   "cell_type": "code",
   "execution_count": 11,
   "metadata": {
    "collapsed": true
   },
   "outputs": [],
   "source": [
    "\n",
    "#Keras image generators allow you to preprocess batches of images in real-time.\n",
    "from keras.preprocessing.image import ImageDataGenerator\n",
    "\n",
    "datagen = ImageDataGenerator(\n",
    "        featurewise_center=True, # set input mean to 0 over the dataset\n",
    "        samplewise_center=False, # set each sample mean to 0\n",
    "        featurewise_std_normalization=True, # divide inputs by std of the dataset\n",
    "        samplewise_std_normalization=False, # divide each input by its std\n",
    "        zca_whitening=False, # apply ZCA whitening\n",
    "        rotation_range=20, # randomly rotate images in the range (degrees, 0 to 180)\n",
    "        width_shift_range=0.2, # randomly shift images horizontally (fraction of total width)\n",
    "        height_shift_range=0.2, # randomly shift images vertically (fraction of total height)\n",
    "        horizontal_flip=False, # randomly flip images\n",
    "        vertical_flip=False) # randomly flip images\n",
    "\n",
    "\n",
    "# Hyperparameter: defining how many convolutional layers for our CNN model\n",
    "N_layers = 4\n",
    "\n",
    "def cnn(size, n_layers):\n",
    "    # size : size of the input images\n",
    "    # n_layers : number of layers\n",
    "    # model : compiled CNN\n",
    "    \n",
    "    # define local hyperparameters\n",
    "    min_neurons = 20\n",
    "    max_neurons = 120\n",
    "    kernel = (3,3)\n",
    "    \n",
    "    # determine the number of neurons in each convolutionnal layer\n",
    "    steps = np.floor(max_neurons / (n_layers + 1))\n",
    "    neurons = np.arange(min_neurons, max_neurons, steps)\n",
    "    neurons = neurons.astype(np.int32)\n",
    "    \n",
    "    # define a model \n",
    "    model = Sequential()\n",
    "\n",
    "    # add convolutional layers\n",
    "    for  i in range(0,n_layers):\n",
    "        if i == 0:\n",
    "            shape = (size[0],size[1], size[2])\n",
    "            model.add(Conv2D(neurons[i], kernel, input_shape= shape))\n",
    "        else:\n",
    "            model.add(Conv2D(neurons[i], kernel))\n",
    "        model.add(Activation('relu'))\n",
    "        \n",
    "        #Add max pooling layer\n",
    "        model.add(MaxPooling2D(pool_size=(2,2)))\n",
    "        model.add(Flatten())\n",
    "        model.add(Dense(max_neurons))\n",
    "        model.add(Activation('relu'))\n",
    "        \n",
    "        #Add output layer\n",
    "        model.add(Dense(1))\n",
    "        model.add(Activation('sigmoid'))\n",
    "        \n",
    "        #complie the model\n",
    "        model.compile(loss='binary_crossentropy',\n",
    "                     optimizer='adam',\n",
    "                     metrics=['accuracy'])\n",
    "        \n",
    "        # print a summary of the model\n",
    "        model.summary()\n",
    "        \n",
    "        return model"
   ]
  },
  {
   "cell_type": "code",
   "execution_count": 12,
   "metadata": {
    "collapsed": true
   },
   "outputs": [],
   "source": [
    "#from keras.preprocessing import image\n",
    "#test_image = image.load_img(X_train[1], \n",
    "#            target_size = (244, 244))\n",
    "#test_image = image.img_to_array(test_image)\n",
    "#\n",
    "## scale the raw pixel intensities to the range [0, 1]\n",
    "#test_image = np.array(test_image, dtype=\"float\") / 255.0\n",
    "##test_image"
   ]
  },
  {
   "cell_type": "code",
   "execution_count": 13,
   "metadata": {},
   "outputs": [
    {
     "name": "stdout",
     "output_type": "stream",
     "text": [
      "_________________________________________________________________\n",
      "Layer (type)                 Output Shape              Param #   \n",
      "=================================================================\n",
      "conv2d_1 (Conv2D)            (None, 242, 242, 20)      560       \n",
      "_________________________________________________________________\n",
      "activation_1 (Activation)    (None, 242, 242, 20)      0         \n",
      "_________________________________________________________________\n",
      "max_pooling2d_1 (MaxPooling2 (None, 121, 121, 20)      0         \n",
      "_________________________________________________________________\n",
      "flatten_1 (Flatten)          (None, 292820)            0         \n",
      "_________________________________________________________________\n",
      "dense_1 (Dense)              (None, 120)               35138520  \n",
      "_________________________________________________________________\n",
      "activation_2 (Activation)    (None, 120)               0         \n",
      "_________________________________________________________________\n",
      "dense_2 (Dense)              (None, 1)                 121       \n",
      "_________________________________________________________________\n",
      "activation_3 (Activation)    (None, 1)                 0         \n",
      "=================================================================\n",
      "Total params: 35,139,201\n",
      "Trainable params: 35,139,201\n",
      "Non-trainable params: 0\n",
      "_________________________________________________________________\n"
     ]
    }
   ],
   "source": [
    "# instantiating the model\n",
    "image_size = (244,244,3)\n",
    "model = cnn(size = image_size , n_layers = N_layers)"
   ]
  },
  {
   "cell_type": "code",
   "execution_count": 15,
   "metadata": {
    "collapsed": true
   },
   "outputs": [],
   "source": [
    "# Defining functions to read and convert the images into numpy array\n",
    "def load_my_image(img_path, target_size=(244, 244)):\n",
    "#    print('Image path size: ')\n",
    "#    display(type(img_path))\n",
    "#    im = load_img(img_path, target_size=target_size)\n",
    "    images = [misc.imread(path, target_size=target_size) for path in file_paths]\n",
    "#    images = [misc.imread(path) for path in  X_batches[0]]    \n",
    "# scale the raw pixel intensities to the range [0, 1]\n",
    "    images = np.array(images, dtype=\"float\") / 255.0\n",
    "#  return img_to_array(im) #converts image to numpy array\n",
    "    return images #converts image to numpy array\n",
    "             \n",
    "def split_and_load(X_samples, y_samples, batch_size=100):\n",
    "    target_size=(244, 244)\n",
    "    batch_size = len(X_samples) / batch_size\n",
    "    X_batches = np.array_split(X_samples, batch_size)\n",
    "    y_batches = np.array_split(y_samples, batch_size)\n",
    "#    display('After the splitting')\n",
    "#    display('before the map call')\n",
    "#    display(type( X_batches[0]))\n",
    "#    test = np.array(map(load_my_image, X_batches[0]))\n",
    "#    test = X_batches[0].map(load_my_image)\n",
    "#    display('after the map call')\n",
    "    \n",
    "#    display(test.shape)\n",
    "    for b in range(len(X_batches)):\n",
    "#        display(b)\n",
    "        print('Before loading the image X_batches: ', b , len(X_batches[b]))\n",
    "        print('Before loading the image y_batches: ', b , len(y_batches[b]))\n",
    "#        x = np.array(map(load_my_image, X_batches[b]))\n",
    "        x = [img_to_array(load_img(path, target_size=target_size)) for path in X_batches[b]]\n",
    "        x = np.array(x, dtype=\"float\") / 255.0\n",
    "        y = np.array(y_batches[b])\n",
    "        display('After loading the image x: ', x.size)\n",
    "        display('After loading the image y: ', y.size)        \n",
    "        yield x, y             "
   ]
  },
  {
   "cell_type": "code",
   "execution_count": null,
   "metadata": {
    "scrolled": true
   },
   "outputs": [
    {
     "name": "stdout",
     "output_type": "stream",
     "text": [
      "epoch 0\n",
      "Before loading the image X_batches:  0 103\n",
      "Before loading the image y_batches:  0 103\n"
     ]
    },
    {
     "data": {
      "text/plain": [
       "'After loading the image x: '"
      ]
     },
     "metadata": {},
     "output_type": "display_data"
    },
    {
     "data": {
      "text/plain": [
       "18396624"
      ]
     },
     "metadata": {},
     "output_type": "display_data"
    },
    {
     "data": {
      "text/plain": [
       "'After loading the image y: '"
      ]
     },
     "metadata": {},
     "output_type": "display_data"
    },
    {
     "data": {
      "text/plain": [
       "103"
      ]
     },
     "metadata": {},
     "output_type": "display_data"
    },
    {
     "name": "stderr",
     "output_type": "stream",
     "text": [
      "C:\\Temp\\Python\\Anaconda3\\lib\\site-packages\\keras\\preprocessing\\image.py:536: UserWarning: This ImageDataGenerator specifies `featurewise_center`, but it hasn'tbeen fit on any training data. Fit it first by calling `.fit(numpy_data)`.\n",
      "  warnings.warn('This ImageDataGenerator specifies '\n",
      "C:\\Temp\\Python\\Anaconda3\\lib\\site-packages\\keras\\preprocessing\\image.py:544: UserWarning: This ImageDataGenerator specifies `featurewise_std_normalization`, but it hasn'tbeen fit on any training data. Fit it first by calling `.fit(numpy_data)`.\n",
      "  warnings.warn('This ImageDataGenerator specifies '\n"
     ]
    }
   ],
   "source": [
    "n_epoch = 1\n",
    "batch_size = 32\n",
    "for e in range(n_epoch):\n",
    "  print( \"epoch\", e)\n",
    "  for X_train, y_train in split_and_load(X, y):# chunks of 100 images\n",
    "#        display(X_train.size)\n",
    "#        display(y_train.size)\n",
    "        for X_batch, y_batch in datagen.flow(X_train, y_train, batch_size=32):# chunks of 32 samples\n",
    "            loss = model.train_on_batch(X_batch, y_batch, verbose = 2)\n"
   ]
  },
  {
   "cell_type": "code",
   "execution_count": null,
   "metadata": {
    "collapsed": true
   },
   "outputs": [],
   "source": [
    "# Make a prediction on the test set\n",
    "test_predictions = model.predict(x_test)\n",
    "test_predictions = np.round(test_predictions)\n",
    "# Report the accuracy\n",
    "accuracy = accuracy_score(y_test, test_predictions)\n",
    "print(\"Accuracy: \" + str(accuracy))"
   ]
  },
  {
   "cell_type": "code",
   "execution_count": null,
   "metadata": {
    "collapsed": true
   },
   "outputs": [],
   "source": [
    "import matplotlib.pyplot as plt\n",
    "def visualize_incorrect_labels(x_data, y_real, y_predicted):\n",
    "    # INPUTS\n",
    "    # x_data      - images\n",
    "    # y_data      - ground truth labels\n",
    "    # y_predicted - predicted label\n",
    "    count = 0\n",
    "    figure = plt.figure()\n",
    "    incorrect_label_indices = (y_real != y_predicted)\n",
    "    y_real = y_real[incorrect_label_indices]\n",
    "    y_predicted = y_predicted[incorrect_label_indices]\n",
    "    x_data = x_data[incorrect_label_indices, :, :, :]\n",
    "\n",
    "    maximum_square = np.ceil(np.sqrt(x_data.shape[0]))\n",
    "\n",
    "    for i in range(x_data.shape[0]):\n",
    "        count += 1\n",
    "        figure.add_subplot(maximum_square, maximum_square, count)\n",
    "        plt.imshow(x_data[i, :, :, :])\n",
    "        plt.axis('off')\n",
    "        plt.title(\"Predicted: \" + str(int(y_predicted[i])) + \", Real: \" + str(int(y_real[i])), fontsize=10)\n",
    "\n",
    "    plt.show()\n",
    "\n",
    "visualize_incorrect_labels(x_test, y_test, np.asarray(test_predictions).ravel())"
   ]
  },
  {
   "cell_type": "markdown",
   "metadata": {},
   "source": [
    "## PCA Handling "
   ]
  },
  {
   "cell_type": "code",
   "execution_count": 9,
   "metadata": {},
   "outputs": [],
   "source": [
    "#loading the full batch of images\n",
    "all_images = [img_to_array(load_img(path, target_size=(64,64))) for path in X]"
   ]
  },
  {
   "cell_type": "code",
   "execution_count": 12,
   "metadata": {},
   "outputs": [],
   "source": [
    "images_array = np.array(all_images, dtype=\"float\") / 255.0"
   ]
  },
  {
   "cell_type": "code",
   "execution_count": 16,
   "metadata": {},
   "outputs": [
    {
     "data": {
      "text/plain": [
       "(1128, 64, 64, 3)"
      ]
     },
     "execution_count": 16,
     "metadata": {},
     "output_type": "execute_result"
    }
   ],
   "source": [
    "images_array.shape"
   ]
  },
  {
   "cell_type": "code",
   "execution_count": 34,
   "metadata": {},
   "outputs": [
    {
     "data": {
      "text/plain": [
       "1128"
      ]
     },
     "metadata": {},
     "output_type": "display_data"
    },
    {
     "data": {
      "text/plain": [
       "(1128, 12288)"
      ]
     },
     "metadata": {},
     "output_type": "display_data"
    }
   ],
   "source": [
    "#y.shape\n"
   ]
  },
  {
   "cell_type": "code",
   "execution_count": 33,
   "metadata": {},
   "outputs": [],
   "source": [
    "x_train1, x_val1, y_train1, y_val1 = train_test_split(images_array, y, test_size = 0.22, random_state = 0)"
   ]
  },
  {
   "cell_type": "code",
   "execution_count": 35,
   "metadata": {},
   "outputs": [
    {
     "data": {
      "text/plain": [
       "879"
      ]
     },
     "metadata": {},
     "output_type": "display_data"
    },
    {
     "data": {
      "text/plain": [
       "(879, 12288)"
      ]
     },
     "metadata": {},
     "output_type": "display_data"
    }
   ],
   "source": [
    "# scikit-learn expects 2d num arrays for the training dataset for a fit function. The dataset \n",
    "# you are passing in is a 3d array you need to reshape the array into a 2d.\n",
    "dataset_size = len(x_train1)\n",
    "display(dataset_size)\n",
    "TwoDim_dataset = x_train1.reshape(dataset_size,-1)\n",
    "display(TwoDim_dataset.shape)"
   ]
  },
  {
   "cell_type": "code",
   "execution_count": 38,
   "metadata": {},
   "outputs": [
    {
     "data": {
      "image/png": "[encoded data removed]",
      "text/plain": [
       "<matplotlib.figure.Figure at 0x2654e9483c8>"
      ]
     },
     "metadata": {},
     "output_type": "display_data"
    }
   ],
   "source": [
    "from sklearn.decomposition import PCA\n",
    "import matplotlib.pyplot as plt\n",
    "%matplotlib inline\n",
    "\n",
    "pca = PCA().fit(TwoDim_dataset)\n",
    "plt.plot(np.cumsum(pca.explained_variance_ratio_))\n",
    "plt.xlabel('number of components')\n",
    "plt.ylabel('cumulative explained variance');\n",
    "#plt.xlim([-10,50])"
   ]
  },
  {
   "cell_type": "code",
   "execution_count": null,
   "metadata": {
    "collapsed": true
   },
   "outputs": [],
   "source": []
  }
 ],
 "metadata": {
  "kernelspec": {
   "display_name": "Python 3",
   "language": "python",
   "name": "python3"
  },
  "language_info": {
   "codemirror_mode": {
    "name": "ipython",
    "version": 3
   },
   "file_extension": ".py",
   "mimetype": "text/x-python",
   "name": "python",
   "nbconvert_exporter": "python",
   "pygments_lexer": "ipython3",
   "version": "3.6.3"
  }
 },
 "nbformat": 4,
 "nbformat_minor": 2
}
