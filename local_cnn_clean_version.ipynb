{
 "cells": [
  {
   "cell_type": "markdown",
   "metadata": {},
   "source": [
    "https://www.kaggle.com/c/icdar2013-gender-prediction-from-handwriting<br> https://www.pyimagesearch.com/2017/12/11/image-classification-with-keras-and-deep-learning/<br> \n",
    "https://medium.com/@kylepob61392/airplane-image-classification-using-a-keras-cnn-22be506fdb53<br> \n",
    "http://overfitt.io/posts/large-image-datasets-keras/"
   ]
  },
  {
   "cell_type": "code",
   "execution_count": 90,
   "metadata": {},
   "outputs": [],
   "source": [
    "# importing the necessary package\n",
    "import glob\n",
    "import os.path as path\n",
    "import pandas as pd\n",
    "from sklearn.model_selection import train_test_split\n",
    "from keras.utils import np_utils\n",
    "# Imports\n",
    "from keras.models import Sequential\n",
    "from keras.layers import Activation, Dropout, Flatten, Dense, Conv2D, MaxPooling2D\n",
    "from keras.callbacks import EarlyStopping, TensorBoard\n",
    "from sklearn.metrics import accuracy_score, f1_score\n",
    "from datetime import datetime\n",
    "import numpy as np\n",
    "from keras.preprocessing.image import img_to_array, load_img\n"
   ]
  },
  {
   "cell_type": "code",
   "execution_count": 91,
   "metadata": {
    "collapsed": true
   },
   "outputs": [],
   "source": [
    "# reading the train answer.csv file\n",
    "train_answers = pd.read_csv('train_answers.csv')\n",
    "#train_answers.head()"
   ]
  },
  {
   "cell_type": "code",
   "execution_count": 92,
   "metadata": {
    "collapsed": true
   },
   "outputs": [],
   "source": [
    "# Generating the path of each images and sorting it\n",
    "image_path = 'data'\n",
    "file_paths = glob.glob(path.join(image_path,'*.jpg'))\n",
    "file_paths.sort()\n",
    "#file_paths"
   ]
  },
  {
   "cell_type": "code",
   "execution_count": 93,
   "metadata": {
    "collapsed": true
   },
   "outputs": [],
   "source": [
    "# Creating a new dataframe with only the file_path and the writer ID\n",
    "COLUMN_NAMES=['file_path', 'writer']\n",
    "dataframe = pd.DataFrame(columns=COLUMN_NAMES)\n",
    "dataframe['file_path']= file_paths"
   ]
  },
  {
   "cell_type": "code",
   "execution_count": 94,
   "metadata": {
    "collapsed": true,
    "scrolled": true
   },
   "outputs": [],
   "source": [
    "\n",
    "# From the dataframe, we need to extract the writer ID from the file path\n",
    "# the format of the file path is 'data\\<writer_id>_<number>.jpg\n",
    "dataframe['writer'] = dataframe['file_path'].str.extract(r'(\\d+)_(\\d+).jpg', expand=True)\n",
    "#dataframe['writer'] = dataframe['writer'].astype('int64') # removing the leading zeros\n",
    "# Set the writer column as a Category\n",
    "dataframe['writer'] = pd.Categorical(dataframe['writer']).codes\n",
    "#dataframe.head()"
   ]
  },
  {
   "cell_type": "code",
   "execution_count": 95,
   "metadata": {
    "collapsed": true
   },
   "outputs": [],
   "source": [
    "# Now we need to merge the dataframe to the train_answer dataframe in order to add the male\n",
    "# column for each writer\n",
    "merged_dataframe = pd.merge(dataframe, train_answers, how ='right', on = ['writer'])\n",
    "#merged_dataframe.head()\n",
    "# as in the train_answer we only have identified 282 writers, every writer IDs > 282 will be\n",
    "# removed"
   ]
  },
  {
   "cell_type": "code",
   "execution_count": 97,
   "metadata": {
    "scrolled": true
   },
   "outputs": [],
   "source": [
    "# Now we can build the X_train and y_train dataframe to be used by the model\n",
    "\n",
    "#X = np.array(merge_test.iloc[:, 0:merge_test.shape[1]-1])\n",
    "#y = to_categorical(np.array(merge_test.iloc[:, merge_test.shape[1]-1:]))\n",
    "X = merged_dataframe['file_path']\n",
    "y = merged_dataframe['male']\n",
    "#Here we split validation data to optimiza classifier during training\n",
    "#X_train, X_val, y_train, y_val = train_test_split(X, y, test_size=0.2, random_state=13)\n",
    "#X_batches = np.asarray(np.array_split(X, 100))\n",
    "#X_batches.shape[0]\n",
    "#batch_size = len(X) / 32\n",
    "#X_batches = np.array_split(X, batch_size)\n",
    "#type(X_batches)\n",
    "#len(X_batches)\n",
    "#X_batches[0]\n",
    "#X_samples = X\n",
    "#y_samples = y\n",
    "#batch_size = len(X_samples) / batch_size\n",
    "#X_batches = np.array_split(X_samples, batch_size)\n",
    "#y_batches = np.array_split(y_samples, batch_size)\n",
    "#for b in range(len(X_batches)):\n",
    "#    x = np.array(map(load_image, X_batches[b]))\n",
    "#    y = np.array(y_batches[b])\n",
    "#    display(len(X_batches[0]))\n",
    "#    display(len(y_batches[0]))\n",
    "#    print('----')\n"
   ]
  },
  {
   "cell_type": "code",
   "execution_count": 98,
   "metadata": {},
   "outputs": [
    {
     "data": {
      "text/html": [
       "<div>\n",
       "<style>\n",
       "    .dataframe thead tr:only-child th {\n",
       "        text-align: right;\n",
       "    }\n",
       "\n",
       "    .dataframe thead th {\n",
       "        text-align: left;\n",
       "    }\n",
       "\n",
       "    .dataframe tbody tr th {\n",
       "        vertical-align: top;\n",
       "    }\n",
       "</style>\n",
       "<table border=\"1\" class=\"dataframe\">\n",
       "  <thead>\n",
       "    <tr style=\"text-align: right;\">\n",
       "      <th></th>\n",
       "      <th>file_path</th>\n",
       "      <th>writer</th>\n",
       "      <th>male</th>\n",
       "    </tr>\n",
       "  </thead>\n",
       "  <tbody>\n",
       "    <tr>\n",
       "      <th>131</th>\n",
       "      <td>data\\0034_4.jpg</td>\n",
       "      <td>33</td>\n",
       "      <td>0</td>\n",
       "    </tr>\n",
       "  </tbody>\n",
       "</table>\n",
       "</div>"
      ],
      "text/plain": [
       "           file_path  writer  male\n",
       "131  data\\0034_4.jpg      33     0"
      ]
     },
     "execution_count": 98,
     "metadata": {},
     "output_type": "execute_result"
    }
   ],
   "source": [
    "# reading a specific line and checking if the write type is correct\n",
    "test_data = merged_dataframe.loc[merged_dataframe['file_path'] == 'data\\\\0034_4.jpg']\n",
    "test_data.head()"
   ]
  },
  {
   "cell_type": "code",
   "execution_count": 99,
   "metadata": {
    "collapsed": true
   },
   "outputs": [],
   "source": [
    "\n",
    "#Keras image generators allow you to preprocess batches of images in real-time.\n",
    "from keras.preprocessing.image import ImageDataGenerator\n",
    "\n",
    "datagen = ImageDataGenerator(\n",
    "        featurewise_center=True, # set input mean to 0 over the dataset\n",
    "        samplewise_center=False, # set each sample mean to 0\n",
    "        featurewise_std_normalization=True, # divide inputs by std of the dataset\n",
    "        samplewise_std_normalization=False, # divide each input by its std\n",
    "        zca_whitening=False, # apply ZCA whitening\n",
    "        rotation_range=20, # randomly rotate images in the range (degrees, 0 to 180)\n",
    "        width_shift_range=0.2, # randomly shift images horizontally (fraction of total width)\n",
    "        height_shift_range=0.2, # randomly shift images vertically (fraction of total height)\n",
    "        horizontal_flip=False, # randomly flip images\n",
    "        vertical_flip=False) # randomly flip images\n",
    "\n",
    "\n",
    "# Hyperparameter: defining how many convolutional layers for our CNN model\n",
    "N_layers = 4\n",
    "\n",
    "def cnn(size, n_layers):\n",
    "    # size : size of the input images\n",
    "    # n_layers : number of layers\n",
    "    # model : compiled CNN\n",
    "    \n",
    "    # define local hyperparameters\n",
    "    min_neurons = 20\n",
    "    max_neurons = 120\n",
    "    kernel = (3,3)\n",
    "    \n",
    "    # determine the number of neurons in each convolutionnal layer\n",
    "    steps = np.floor(max_neurons / (n_layers + 1))\n",
    "    neurons = np.arange(min_neurons, max_neurons, steps)\n",
    "    neurons = neurons.astype(np.int32)\n",
    "    \n",
    "    # define a model \n",
    "    model = Sequential()\n",
    "\n",
    "    # add convolutional layers\n",
    "    for  i in range(0,n_layers):\n",
    "        if i == 0:\n",
    "            shape = (size[0],size[1], size[2])\n",
    "            model.add(Conv2D(neurons[i], kernel, input_shape= shape))\n",
    "        else:\n",
    "            model.add(Conv2D(neurons[i], kernel))\n",
    "        model.add(Activation('relu'))\n",
    "        \n",
    "        #Add max pooling layer\n",
    "        model.add(MaxPooling2D(pool_size=(2,2)))\n",
    "        model.add(Flatten())\n",
    "        model.add(Dense(max_neurons))\n",
    "        model.add(Activation('relu'))\n",
    "        \n",
    "        #Add output layer\n",
    "        model.add(Dense(1))\n",
    "        model.add(Activation('sigmoid'))\n",
    "        \n",
    "        #complie the model\n",
    "        model.compile(loss='binary_crossentropy',\n",
    "                     optimizer='adam',\n",
    "                     metric=['accuracy'])\n",
    "        \n",
    "        # print a summary of the model\n",
    "        model.summary()\n",
    "        \n",
    "        return model"
   ]
  },
  {
   "cell_type": "code",
   "execution_count": 100,
   "metadata": {
    "collapsed": true
   },
   "outputs": [],
   "source": [
    "#from keras.preprocessing import image\n",
    "#test_image = image.load_img(X_train[1], \n",
    "#            target_size = (244, 244))\n",
    "#test_image = image.img_to_array(test_image)\n",
    "#\n",
    "## scale the raw pixel intensities to the range [0, 1]\n",
    "#test_image = np.array(test_image, dtype=\"float\") / 255.0\n",
    "##test_image"
   ]
  },
  {
   "cell_type": "code",
   "execution_count": 101,
   "metadata": {},
   "outputs": [
    {
     "name": "stdout",
     "output_type": "stream",
     "text": [
      "_________________________________________________________________\n",
      "Layer (type)                 Output Shape              Param #   \n",
      "=================================================================\n",
      "conv2d_3 (Conv2D)            (None, 242, 242, 20)      560       \n",
      "_________________________________________________________________\n",
      "activation_7 (Activation)    (None, 242, 242, 20)      0         \n",
      "_________________________________________________________________\n",
      "max_pooling2d_3 (MaxPooling2 (None, 121, 121, 20)      0         \n",
      "_________________________________________________________________\n",
      "flatten_3 (Flatten)          (None, 292820)            0         \n",
      "_________________________________________________________________\n",
      "dense_5 (Dense)              (None, 120)               35138520  \n",
      "_________________________________________________________________\n",
      "activation_8 (Activation)    (None, 120)               0         \n",
      "_________________________________________________________________\n",
      "dense_6 (Dense)              (None, 1)                 121       \n",
      "_________________________________________________________________\n",
      "activation_9 (Activation)    (None, 1)                 0         \n",
      "=================================================================\n",
      "Total params: 35,139,201\n",
      "Trainable params: 35,139,201\n",
      "Non-trainable params: 0\n",
      "_________________________________________________________________\n"
     ]
    }
   ],
   "source": [
    "# instantiating the model\n",
    "image_size = (244,244,3)\n",
    "model = cnn(size = image_size , n_layers = N_layers)"
   ]
  },
  {
   "cell_type": "code",
   "execution_count": 102,
   "metadata": {
    "collapsed": true
   },
   "outputs": [],
   "source": [
    "# Defining functions to read and convert the images into numpy array\n",
    "def load_my_image(img_path, target_size=(244, 244)):\n",
    "#    print('Image path size: ')\n",
    "#    display(type(img_path))\n",
    "#    im = load_img(img_path, target_size=target_size)\n",
    "    images = [misc.imread(path, target_size=target_size) for path in file_paths]\n",
    "#    images = [misc.imread(path) for path in  X_batches[0]]    \n",
    "# scale the raw pixel intensities to the range [0, 1]\n",
    "    images = np.array(images, dtype=\"float\") / 255.0\n",
    "#  return img_to_array(im) #converts image to numpy array\n",
    "    return images #converts image to numpy array\n",
    "             \n",
    "def split_and_load(X_samples, y_samples, batch_size=100):\n",
    "    target_size=(244, 244)\n",
    "    batch_size = len(X_samples) / batch_size\n",
    "    X_batches = np.array_split(X_samples, batch_size)\n",
    "    y_batches = np.array_split(y_samples, batch_size)\n",
    "#    display('After the splitting')\n",
    "#    display('before the map call')\n",
    "#    display(type( X_batches[0]))\n",
    "#    test = np.array(map(load_my_image, X_batches[0]))\n",
    "#    test = X_batches[0].map(load_my_image)\n",
    "#    display('after the map call')\n",
    "    \n",
    "#    display(test.shape)\n",
    "    for b in range(len(X_batches)):\n",
    "#        display(b)\n",
    "        print('Before loading the image X_batches: ', b , len(X_batches[b]))\n",
    "        print('Before loading the image y_batches: ', b , len(y_batches[b]))\n",
    "#        x = np.array(map(load_my_image, X_batches[b]))\n",
    "        x = [img_to_array(load_img(path, target_size=target_size)) for path in X_batches[b]]\n",
    "        x = np.array(x, dtype=\"float\") / 255.0\n",
    "        y = np.array(y_batches[b])\n",
    "        display('After loading the image x: ', x.size)\n",
    "        display('After loading the image y: ', y.size)        \n",
    "        yield x, y             "
   ]
  },
  {
   "cell_type": "code",
   "execution_count": 103,
   "metadata": {},
   "outputs": [
    {
     "data": {
      "text/plain": [
       "36"
      ]
     },
     "execution_count": 103,
     "metadata": {},
     "output_type": "execute_result"
    }
   ],
   "source": [
    "len(y_batches[0])"
   ]
  },
  {
   "cell_type": "code",
   "execution_count": 104,
   "metadata": {
    "scrolled": true
   },
   "outputs": [
    {
     "name": "stdout",
     "output_type": "stream",
     "text": [
      "epoch 0\n",
      "Before loading the image X_batches:  0 103\n",
      "Before loading the image y_batches:  0 103\n"
     ]
    },
    {
     "data": {
      "text/plain": [
       "'After loading the image x: '"
      ]
     },
     "metadata": {},
     "output_type": "display_data"
    },
    {
     "data": {
      "text/plain": [
       "18396624"
      ]
     },
     "metadata": {},
     "output_type": "display_data"
    },
    {
     "data": {
      "text/plain": [
       "'After loading the image y: '"
      ]
     },
     "metadata": {},
     "output_type": "display_data"
    },
    {
     "data": {
      "text/plain": [
       "103"
      ]
     },
     "metadata": {},
     "output_type": "display_data"
    },
    {
     "name": "stderr",
     "output_type": "stream",
     "text": [
      "C:\\Temp\\Python\\Anaconda3\\lib\\site-packages\\keras\\preprocessing\\image.py:536: UserWarning: This ImageDataGenerator specifies `featurewise_center`, but it hasn'tbeen fit on any training data. Fit it first by calling `.fit(numpy_data)`.\n",
      "  warnings.warn('This ImageDataGenerator specifies '\n",
      "C:\\Temp\\Python\\Anaconda3\\lib\\site-packages\\keras\\preprocessing\\image.py:544: UserWarning: This ImageDataGenerator specifies `featurewise_std_normalization`, but it hasn'tbeen fit on any training data. Fit it first by calling `.fit(numpy_data)`.\n",
      "  warnings.warn('This ImageDataGenerator specifies '\n"
     ]
    },
    {
     "ename": "TypeError",
     "evalue": "run() got an unexpected keyword argument 'metric'",
     "output_type": "error",
     "traceback": [
      "\u001b[1;31m---------------------------------------------------------------------------\u001b[0m",
      "\u001b[1;31mTypeError\u001b[0m                                 Traceback (most recent call last)",
      "\u001b[1;32m<ipython-input-104-c1b8809c8b51>\u001b[0m in \u001b[0;36m<module>\u001b[1;34m()\u001b[0m\n\u001b[0;32m      7\u001b[0m \u001b[1;31m#        display(y_train.size)\u001b[0m\u001b[1;33m\u001b[0m\u001b[1;33m\u001b[0m\u001b[0m\n\u001b[0;32m      8\u001b[0m         \u001b[1;32mfor\u001b[0m \u001b[0mX_batch\u001b[0m\u001b[1;33m,\u001b[0m \u001b[0my_batch\u001b[0m \u001b[1;32min\u001b[0m \u001b[0mdatagen\u001b[0m\u001b[1;33m.\u001b[0m\u001b[0mflow\u001b[0m\u001b[1;33m(\u001b[0m\u001b[0mX_train\u001b[0m\u001b[1;33m,\u001b[0m \u001b[0my_train\u001b[0m\u001b[1;33m,\u001b[0m \u001b[0mbatch_size\u001b[0m\u001b[1;33m=\u001b[0m\u001b[1;36m32\u001b[0m\u001b[1;33m)\u001b[0m\u001b[1;33m:\u001b[0m\u001b[1;31m# chunks of 32 samples\u001b[0m\u001b[1;33m\u001b[0m\u001b[0m\n\u001b[1;32m----> 9\u001b[1;33m             \u001b[0mloss\u001b[0m \u001b[1;33m=\u001b[0m \u001b[0mmodel\u001b[0m\u001b[1;33m.\u001b[0m\u001b[0mtrain_on_batch\u001b[0m\u001b[1;33m(\u001b[0m\u001b[0mX_batch\u001b[0m\u001b[1;33m,\u001b[0m \u001b[0my_batch\u001b[0m\u001b[1;33m)\u001b[0m\u001b[1;33m\u001b[0m\u001b[0m\n\u001b[0m",
      "\u001b[1;32mC:\\Temp\\Python\\Anaconda3\\lib\\site-packages\\keras\\models.py\u001b[0m in \u001b[0;36mtrain_on_batch\u001b[1;34m(self, x, y, class_weight, sample_weight)\u001b[0m\n\u001b[0;32m    979\u001b[0m         return self.model.train_on_batch(x, y,\n\u001b[0;32m    980\u001b[0m                                          \u001b[0msample_weight\u001b[0m\u001b[1;33m=\u001b[0m\u001b[0msample_weight\u001b[0m\u001b[1;33m,\u001b[0m\u001b[1;33m\u001b[0m\u001b[0m\n\u001b[1;32m--> 981\u001b[1;33m                                          class_weight=class_weight)\n\u001b[0m\u001b[0;32m    982\u001b[0m \u001b[1;33m\u001b[0m\u001b[0m\n\u001b[0;32m    983\u001b[0m     def test_on_batch(self, x, y,\n",
      "\u001b[1;32mC:\\Temp\\Python\\Anaconda3\\lib\\site-packages\\keras\\engine\\training.py\u001b[0m in \u001b[0;36mtrain_on_batch\u001b[1;34m(self, x, y, sample_weight, class_weight)\u001b[0m\n\u001b[0;32m   1795\u001b[0m             \u001b[0mins\u001b[0m \u001b[1;33m=\u001b[0m \u001b[0mx\u001b[0m \u001b[1;33m+\u001b[0m \u001b[0my\u001b[0m \u001b[1;33m+\u001b[0m \u001b[0msample_weights\u001b[0m\u001b[1;33m\u001b[0m\u001b[0m\n\u001b[0;32m   1796\u001b[0m         \u001b[0mself\u001b[0m\u001b[1;33m.\u001b[0m\u001b[0m_make_train_function\u001b[0m\u001b[1;33m(\u001b[0m\u001b[1;33m)\u001b[0m\u001b[1;33m\u001b[0m\u001b[0m\n\u001b[1;32m-> 1797\u001b[1;33m         \u001b[0moutputs\u001b[0m \u001b[1;33m=\u001b[0m \u001b[0mself\u001b[0m\u001b[1;33m.\u001b[0m\u001b[0mtrain_function\u001b[0m\u001b[1;33m(\u001b[0m\u001b[0mins\u001b[0m\u001b[1;33m)\u001b[0m\u001b[1;33m\u001b[0m\u001b[0m\n\u001b[0m\u001b[0;32m   1798\u001b[0m         \u001b[1;32mif\u001b[0m \u001b[0mlen\u001b[0m\u001b[1;33m(\u001b[0m\u001b[0moutputs\u001b[0m\u001b[1;33m)\u001b[0m \u001b[1;33m==\u001b[0m \u001b[1;36m1\u001b[0m\u001b[1;33m:\u001b[0m\u001b[1;33m\u001b[0m\u001b[0m\n\u001b[0;32m   1799\u001b[0m             \u001b[1;32mreturn\u001b[0m \u001b[0moutputs\u001b[0m\u001b[1;33m[\u001b[0m\u001b[1;36m0\u001b[0m\u001b[1;33m]\u001b[0m\u001b[1;33m\u001b[0m\u001b[0m\n",
      "\u001b[1;32mC:\\Temp\\Python\\Anaconda3\\lib\\site-packages\\keras\\backend\\tensorflow_backend.py\u001b[0m in \u001b[0;36m__call__\u001b[1;34m(self, inputs)\u001b[0m\n\u001b[0;32m   2330\u001b[0m         updated = session.run(self.outputs + [self.updates_op],\n\u001b[0;32m   2331\u001b[0m                               \u001b[0mfeed_dict\u001b[0m\u001b[1;33m=\u001b[0m\u001b[0mfeed_dict\u001b[0m\u001b[1;33m,\u001b[0m\u001b[1;33m\u001b[0m\u001b[0m\n\u001b[1;32m-> 2332\u001b[1;33m                               **self.session_kwargs)\n\u001b[0m\u001b[0;32m   2333\u001b[0m         \u001b[1;32mreturn\u001b[0m \u001b[0mupdated\u001b[0m\u001b[1;33m[\u001b[0m\u001b[1;33m:\u001b[0m\u001b[0mlen\u001b[0m\u001b[1;33m(\u001b[0m\u001b[0mself\u001b[0m\u001b[1;33m.\u001b[0m\u001b[0moutputs\u001b[0m\u001b[1;33m)\u001b[0m\u001b[1;33m]\u001b[0m\u001b[1;33m\u001b[0m\u001b[0m\n\u001b[0;32m   2334\u001b[0m \u001b[1;33m\u001b[0m\u001b[0m\n",
      "\u001b[1;31mTypeError\u001b[0m: run() got an unexpected keyword argument 'metric'"
     ]
    }
   ],
   "source": [
    "n_epoch = 1\n",
    "batch_size = 32\n",
    "for e in range(n_epoch):\n",
    "  print( \"epoch\", e)\n",
    "  for X_train, y_train in split_and_load(X, y):# chunks of 100 images\n",
    "#        display(X_train.size)\n",
    "#        display(y_train.size)\n",
    "        for X_batch, y_batch in datagen.flow(X_train, y_train, batch_size=32):# chunks of 32 samples\n",
    "            loss = model.train_on_batch(X_batch, y_batch)\n"
   ]
  },
  {
   "cell_type": "code",
   "execution_count": null,
   "metadata": {
    "collapsed": true
   },
   "outputs": [],
   "source": [
    "# Make a prediction on the test set\n",
    "test_predictions = model.predict(x_test)\n",
    "test_predictions = np.round(test_predictions)\n",
    "# Report the accuracy\n",
    "accuracy = accuracy_score(y_test, test_predictions)\n",
    "print(\"Accuracy: \" + str(accuracy))"
   ]
  },
  {
   "cell_type": "code",
   "execution_count": null,
   "metadata": {
    "collapsed": true
   },
   "outputs": [],
   "source": [
    "import matplotlib.pyplot as plt\n",
    "def visualize_incorrect_labels(x_data, y_real, y_predicted):\n",
    "    # INPUTS\n",
    "    # x_data      - images\n",
    "    # y_data      - ground truth labels\n",
    "    # y_predicted - predicted label\n",
    "    count = 0\n",
    "    figure = plt.figure()\n",
    "    incorrect_label_indices = (y_real != y_predicted)\n",
    "    y_real = y_real[incorrect_label_indices]\n",
    "    y_predicted = y_predicted[incorrect_label_indices]\n",
    "    x_data = x_data[incorrect_label_indices, :, :, :]\n",
    "\n",
    "    maximum_square = np.ceil(np.sqrt(x_data.shape[0]))\n",
    "\n",
    "    for i in range(x_data.shape[0]):\n",
    "        count += 1\n",
    "        figure.add_subplot(maximum_square, maximum_square, count)\n",
    "        plt.imshow(x_data[i, :, :, :])\n",
    "        plt.axis('off')\n",
    "        plt.title(\"Predicted: \" + str(int(y_predicted[i])) + \", Real: \" + str(int(y_real[i])), fontsize=10)\n",
    "\n",
    "    plt.show()\n",
    "\n",
    "visualize_incorrect_labels(x_test, y_test, np.asarray(test_predictions).ravel())"
   ]
  }
 ],
 "metadata": {
  "kernelspec": {
   "display_name": "Python 3",
   "language": "python",
   "name": "python3"
  },
  "language_info": {
   "codemirror_mode": {
    "name": "ipython",
    "version": 3
   },
   "file_extension": ".py",
   "mimetype": "text/x-python",
   "name": "python",
   "nbconvert_exporter": "python",
   "pygments_lexer": "ipython3",
   "version": "3.6.3"
  }
 },
 "nbformat": 4,
 "nbformat_minor": 2
}
